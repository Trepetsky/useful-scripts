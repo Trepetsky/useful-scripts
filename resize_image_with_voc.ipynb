{
 "cells": [
  {
   "cell_type": "code",
   "execution_count": 1,
   "id": "8931830b-5cd7-493b-bd33-9d17b816fdd2",
   "metadata": {},
   "outputs": [],
   "source": [
    "import os\n",
    "import cv2\n",
    "import xml.etree.ElementTree as ET\n",
    "from tqdm import tqdm"
   ]
  },
  {
   "cell_type": "code",
   "execution_count": 6,
   "id": "4e1bf60b-42f1-4e95-8e6c-9838d3c7561f",
   "metadata": {},
   "outputs": [],
   "source": [
    "def resize_annotation(annotation_path, new_width, new_height, output_dir):\n",
    "    tree = ET.parse(annotation_path)\n",
    "    root = tree.getroot()\n",
    "\n",
    "    size = root.find('size')\n",
    "    width = int(size.find('width').text)\n",
    "    height = int(size.find('height').text)\n",
    "\n",
    "    size.find('width').text = str(new_width)\n",
    "    size.find('height').text = str(new_height)\n",
    "\n",
    "    for obj in root.findall('object'):\n",
    "        bndbox = obj.find('bndbox')\n",
    "        xmin = int(bndbox.find('xmin').text)\n",
    "        ymin = int(bndbox.find('ymin').text)\n",
    "        xmax = int(bndbox.find('xmax').text)\n",
    "        ymax = int(bndbox.find('ymax').text)\n",
    "\n",
    "        xmin = int(xmin * (new_width / width))\n",
    "        ymin = int(ymin * (new_height / height))\n",
    "        xmax = int(xmax * (new_width / width))\n",
    "        ymax = int(ymax * (new_height / height))\n",
    "\n",
    "        bndbox.find('xmin').text = str(xmin)\n",
    "        bndbox.find('ymin').text = str(ymin)\n",
    "        bndbox.find('xmax').text = str(xmax)\n",
    "        bndbox.find('ymax').text = str(ymax)\n",
    "\n",
    "    output_annotation_name = os.path.basename(annotation_path)\n",
    "    output_annotation_path = os.path.join(output_dir, output_annotation_name)\n",
    "    tree.write(output_annotation_path)"
   ]
  },
  {
   "cell_type": "code",
   "execution_count": 10,
   "id": "9e8c7861-fbf2-4e56-9f9f-8f4d99a70aa1",
   "metadata": {},
   "outputs": [
    {
     "name": "stderr",
     "output_type": "stream",
     "text": [
      "100%|█████████████████████████████████████████| 156/156 [00:06<00:00, 22.73it/s]\n"
     ]
    }
   ],
   "source": [
    "new_width = 1050\n",
    "new_height = 1585\n",
    "\n",
    "image_dir = '../../Загрузки/project/images'\n",
    "annotation_dir = '../../Загрузки/project/Annotations'\n",
    "output_dir = '../../Загрузки/project/Resized'\n",
    "\n",
    "for filename in tqdm(os.listdir(image_dir)):\n",
    "    if not filename.endswith('.png'):\n",
    "        continue\n",
    "\n",
    "    image_path = os.path.join(image_dir, filename)\n",
    "    image = cv2.imread(image_path)\n",
    "\n",
    "    resized_image = cv2.resize(image, (new_width, new_height))\n",
    "    resized_image = cv2.cvtColor(resized_image, cv2.COLOR_BGR2RGB)\n",
    "\n",
    "    output_image_path = os.path.join(output_dir, filename)\n",
    "    cv2.imwrite(output_image_path, resized_image)\n",
    "\n",
    "    annotation_filename = filename.replace('.png', '.xml')\n",
    "    annotation_path = os.path.join(annotation_dir, annotation_filename)\n",
    "\n",
    "    \n",
    "    resize_annotation(annotation_path, new_width, new_height, output_dir)"
   ]
  }
 ],
 "metadata": {
  "kernelspec": {
   "display_name": "Python 3 (ipykernel)",
   "language": "python",
   "name": "python3"
  },
  "language_info": {
   "codemirror_mode": {
    "name": "ipython",
    "version": 3
   },
   "file_extension": ".py",
   "mimetype": "text/x-python",
   "name": "python",
   "nbconvert_exporter": "python",
   "pygments_lexer": "ipython3",
   "version": "3.10.12"
  }
 },
 "nbformat": 4,
 "nbformat_minor": 5
}
