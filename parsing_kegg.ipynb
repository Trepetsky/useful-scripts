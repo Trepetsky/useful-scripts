{
 "cells": [
  {
   "cell_type": "code",
   "execution_count": 1,
   "id": "d987d707-3c73-459b-afd3-1a8bc31eeafa",
   "metadata": {
    "tags": []
   },
   "outputs": [],
   "source": [
    "import re\n",
    "import io\n",
    "import time\n",
    "import joblib\n",
    "import requests\n",
    "from tqdm import tqdm\n",
    "import pandas as pd\n",
    "import pubchempy as pcp\n",
    "from Bio.KEGG import REST\n",
    "from bioservices import KEGG, ChEBI"
   ]
  },
  {
   "cell_type": "code",
   "execution_count": 2,
   "id": "ca9281ba-32f7-42cf-9d6c-b9783925dce3",
   "metadata": {
    "tags": []
   },
   "outputs": [],
   "source": [
    "df = pd.read_csv('test.csv')"
   ]
  },
  {
   "cell_type": "code",
   "execution_count": 12,
   "id": "b1ba24d8-8872-4409-9a77-25e0664b6298",
   "metadata": {
    "tags": []
   },
   "outputs": [
    {
     "name": "stderr",
     "output_type": "stream",
     "text": [
      "100%|███████████████████████████████████████| 201/201 [1:20:40<00:00, 24.08s/it]\n"
     ]
    }
   ],
   "source": [
    "smiles_list = df.Compound.tolist()\n",
    "\n",
    "with open('kegg_ids.csv', 'a') as output_file:\n",
    "    output_file.write('comp_id,score,pwy_id\\n')\n",
    "    for i, smiles in tqdm(enumerate(smiles_list), total=len(smiles_list)):\n",
    "        data = {\n",
    "            'smiles': smiles,\n",
    "            'cutoff': 0.01,\n",
    "            'limit': 3\n",
    "        }\n",
    "        \n",
    "        response = requests.post('http://rest.genome.jp/simcomp/', data=data)\n",
    "        \n",
    "        if response.status_code == 200:\n",
    "            resp = '\\n'.join([r + f',{i}' for r in response.text.replace('\\t', ',').split('\\n')[:-1]])\n",
    "            output_file.write(f'{resp}\\n')\n",
    "        else:\n",
    "            continue\n",
    "\n",
    "        time.sleep(3)"
   ]
  },
  {
   "cell_type": "code",
   "execution_count": 13,
   "id": "80b9e27f-80fa-4301-820b-1895081a38b5",
   "metadata": {
    "tags": []
   },
   "outputs": [],
   "source": [
    "def to_df(result):\n",
    "    return pd.read_table(io.StringIO(result), header=None)"
   ]
  },
  {
   "cell_type": "code",
   "execution_count": 14,
   "id": "3e61a5d5-a549-4038-bcb6-0a06ea15f3aa",
   "metadata": {
    "tags": []
   },
   "outputs": [],
   "source": [
    "kegg_df = pd.read_csv('kegg_ids.csv')\n",
    "kegg_ids = kegg_df.comp_id.unique()"
   ]
  },
  {
   "cell_type": "code",
   "execution_count": 15,
   "id": "b44527dd-fcbc-466b-bab4-f35355890be2",
   "metadata": {
    "tags": []
   },
   "outputs": [
    {
     "name": "stderr",
     "output_type": "stream",
     "text": [
      "100%|█████████████████████████████████████████| 992/992 [41:47<00:00,  2.53s/it]\n"
     ]
    }
   ],
   "source": [
    "reaction_ids = pd.DataFrame()\n",
    "for idx in tqdm(kegg_ids):\n",
    "    try:\n",
    "        result = REST.kegg_link(\"rn\", idx).read()\n",
    "        reaction_ids = pd.concat([reaction_ids, to_df(result)], axis=0)\n",
    "    except:\n",
    "        continue\n",
    "\n",
    "    time.sleep(3)\n",
    "\n",
    "reaction_ids.columns = ['comp_id', 'rn_id']\n",
    "reaction_ids.to_csv('reaction_ids.csv', index=False)"
   ]
  },
  {
   "cell_type": "code",
   "execution_count": 16,
   "id": "bda1c2b7-46e2-4114-856d-ed545fb5ef07",
   "metadata": {
    "collapsed": true,
    "jupyter": {
     "outputs_hidden": true
    },
    "tags": []
   },
   "outputs": [
    {
     "name": "stderr",
     "output_type": "stream",
     "text": [
      "100%|█████████████████████████████████████| 3398/3398 [3:48:39<00:00,  4.04s/it]\n"
     ]
    },
    {
     "ename": "TypeError",
     "evalue": "cannot pickle 'generator' object",
     "output_type": "error",
     "traceback": [
      "\u001b[0;31m---------------------------------------------------------------------------\u001b[0m",
      "\u001b[0;31mTypeError\u001b[0m                                 Traceback (most recent call last)",
      "\u001b[0;32m/tmp/ipykernel_81981/2676845186.py\u001b[0m in \u001b[0;36m<module>\u001b[0;34m\u001b[0m\n\u001b[1;32m      9\u001b[0m     \u001b[0mtime\u001b[0m\u001b[0;34m.\u001b[0m\u001b[0msleep\u001b[0m\u001b[0;34m(\u001b[0m\u001b[0;36m3\u001b[0m\u001b[0;34m)\u001b[0m\u001b[0;34m\u001b[0m\u001b[0;34m\u001b[0m\u001b[0m\n\u001b[1;32m     10\u001b[0m \u001b[0;34m\u001b[0m\u001b[0m\n\u001b[0;32m---> 11\u001b[0;31m \u001b[0mjoblib\u001b[0m\u001b[0;34m.\u001b[0m\u001b[0mdump\u001b[0m\u001b[0;34m(\u001b[0m\u001b[0mreactions\u001b[0m\u001b[0;34m,\u001b[0m \u001b[0;34m'reactions.pkl'\u001b[0m\u001b[0;34m)\u001b[0m\u001b[0;34m\u001b[0m\u001b[0;34m\u001b[0m\u001b[0m\n\u001b[0m",
      "\u001b[0;32m/usr/local/lib/python3.10/dist-packages/joblib/numpy_pickle.py\u001b[0m in \u001b[0;36mdump\u001b[0;34m(value, filename, compress, protocol, cache_size)\u001b[0m\n\u001b[1;32m    551\u001b[0m     \u001b[0;32melif\u001b[0m \u001b[0mis_filename\u001b[0m\u001b[0;34m:\u001b[0m\u001b[0;34m\u001b[0m\u001b[0;34m\u001b[0m\u001b[0m\n\u001b[1;32m    552\u001b[0m         \u001b[0;32mwith\u001b[0m \u001b[0mopen\u001b[0m\u001b[0;34m(\u001b[0m\u001b[0mfilename\u001b[0m\u001b[0;34m,\u001b[0m \u001b[0;34m'wb'\u001b[0m\u001b[0;34m)\u001b[0m \u001b[0;32mas\u001b[0m \u001b[0mf\u001b[0m\u001b[0;34m:\u001b[0m\u001b[0;34m\u001b[0m\u001b[0;34m\u001b[0m\u001b[0m\n\u001b[0;32m--> 553\u001b[0;31m             \u001b[0mNumpyPickler\u001b[0m\u001b[0;34m(\u001b[0m\u001b[0mf\u001b[0m\u001b[0;34m,\u001b[0m \u001b[0mprotocol\u001b[0m\u001b[0;34m=\u001b[0m\u001b[0mprotocol\u001b[0m\u001b[0;34m)\u001b[0m\u001b[0;34m.\u001b[0m\u001b[0mdump\u001b[0m\u001b[0;34m(\u001b[0m\u001b[0mvalue\u001b[0m\u001b[0;34m)\u001b[0m\u001b[0;34m\u001b[0m\u001b[0;34m\u001b[0m\u001b[0m\n\u001b[0m\u001b[1;32m    554\u001b[0m     \u001b[0;32melse\u001b[0m\u001b[0;34m:\u001b[0m\u001b[0;34m\u001b[0m\u001b[0;34m\u001b[0m\u001b[0m\n\u001b[1;32m    555\u001b[0m         \u001b[0mNumpyPickler\u001b[0m\u001b[0;34m(\u001b[0m\u001b[0mfilename\u001b[0m\u001b[0;34m,\u001b[0m \u001b[0mprotocol\u001b[0m\u001b[0;34m=\u001b[0m\u001b[0mprotocol\u001b[0m\u001b[0;34m)\u001b[0m\u001b[0;34m.\u001b[0m\u001b[0mdump\u001b[0m\u001b[0;34m(\u001b[0m\u001b[0mvalue\u001b[0m\u001b[0;34m)\u001b[0m\u001b[0;34m\u001b[0m\u001b[0;34m\u001b[0m\u001b[0m\n",
      "\u001b[0;32m/usr/lib/python3.10/pickle.py\u001b[0m in \u001b[0;36mdump\u001b[0;34m(self, obj)\u001b[0m\n\u001b[1;32m    485\u001b[0m         \u001b[0;32mif\u001b[0m \u001b[0mself\u001b[0m\u001b[0;34m.\u001b[0m\u001b[0mproto\u001b[0m \u001b[0;34m>=\u001b[0m \u001b[0;36m4\u001b[0m\u001b[0;34m:\u001b[0m\u001b[0;34m\u001b[0m\u001b[0;34m\u001b[0m\u001b[0m\n\u001b[1;32m    486\u001b[0m             \u001b[0mself\u001b[0m\u001b[0;34m.\u001b[0m\u001b[0mframer\u001b[0m\u001b[0;34m.\u001b[0m\u001b[0mstart_framing\u001b[0m\u001b[0;34m(\u001b[0m\u001b[0;34m)\u001b[0m\u001b[0;34m\u001b[0m\u001b[0;34m\u001b[0m\u001b[0m\n\u001b[0;32m--> 487\u001b[0;31m         \u001b[0mself\u001b[0m\u001b[0;34m.\u001b[0m\u001b[0msave\u001b[0m\u001b[0;34m(\u001b[0m\u001b[0mobj\u001b[0m\u001b[0;34m)\u001b[0m\u001b[0;34m\u001b[0m\u001b[0;34m\u001b[0m\u001b[0m\n\u001b[0m\u001b[1;32m    488\u001b[0m         \u001b[0mself\u001b[0m\u001b[0;34m.\u001b[0m\u001b[0mwrite\u001b[0m\u001b[0;34m(\u001b[0m\u001b[0mSTOP\u001b[0m\u001b[0;34m)\u001b[0m\u001b[0;34m\u001b[0m\u001b[0;34m\u001b[0m\u001b[0m\n\u001b[1;32m    489\u001b[0m         \u001b[0mself\u001b[0m\u001b[0;34m.\u001b[0m\u001b[0mframer\u001b[0m\u001b[0;34m.\u001b[0m\u001b[0mend_framing\u001b[0m\u001b[0;34m(\u001b[0m\u001b[0;34m)\u001b[0m\u001b[0;34m\u001b[0m\u001b[0;34m\u001b[0m\u001b[0m\n",
      "\u001b[0;32m/usr/local/lib/python3.10/dist-packages/joblib/numpy_pickle.py\u001b[0m in \u001b[0;36msave\u001b[0;34m(self, obj)\u001b[0m\n\u001b[1;32m    353\u001b[0m             \u001b[0;32mreturn\u001b[0m\u001b[0;34m\u001b[0m\u001b[0;34m\u001b[0m\u001b[0m\n\u001b[1;32m    354\u001b[0m \u001b[0;34m\u001b[0m\u001b[0m\n\u001b[0;32m--> 355\u001b[0;31m         \u001b[0;32mreturn\u001b[0m \u001b[0mPickler\u001b[0m\u001b[0;34m.\u001b[0m\u001b[0msave\u001b[0m\u001b[0;34m(\u001b[0m\u001b[0mself\u001b[0m\u001b[0;34m,\u001b[0m \u001b[0mobj\u001b[0m\u001b[0;34m)\u001b[0m\u001b[0;34m\u001b[0m\u001b[0;34m\u001b[0m\u001b[0m\n\u001b[0m\u001b[1;32m    356\u001b[0m \u001b[0;34m\u001b[0m\u001b[0m\n\u001b[1;32m    357\u001b[0m \u001b[0;34m\u001b[0m\u001b[0m\n",
      "\u001b[0;32m/usr/lib/python3.10/pickle.py\u001b[0m in \u001b[0;36msave\u001b[0;34m(self, obj, save_persistent_id)\u001b[0m\n\u001b[1;32m    558\u001b[0m             \u001b[0mf\u001b[0m \u001b[0;34m=\u001b[0m \u001b[0mself\u001b[0m\u001b[0;34m.\u001b[0m\u001b[0mdispatch\u001b[0m\u001b[0;34m.\u001b[0m\u001b[0mget\u001b[0m\u001b[0;34m(\u001b[0m\u001b[0mt\u001b[0m\u001b[0;34m)\u001b[0m\u001b[0;34m\u001b[0m\u001b[0;34m\u001b[0m\u001b[0m\n\u001b[1;32m    559\u001b[0m             \u001b[0;32mif\u001b[0m \u001b[0mf\u001b[0m \u001b[0;32mis\u001b[0m \u001b[0;32mnot\u001b[0m \u001b[0;32mNone\u001b[0m\u001b[0;34m:\u001b[0m\u001b[0;34m\u001b[0m\u001b[0;34m\u001b[0m\u001b[0m\n\u001b[0;32m--> 560\u001b[0;31m                 \u001b[0mf\u001b[0m\u001b[0;34m(\u001b[0m\u001b[0mself\u001b[0m\u001b[0;34m,\u001b[0m \u001b[0mobj\u001b[0m\u001b[0;34m)\u001b[0m  \u001b[0;31m# Call unbound method with explicit self\u001b[0m\u001b[0;34m\u001b[0m\u001b[0;34m\u001b[0m\u001b[0m\n\u001b[0m\u001b[1;32m    561\u001b[0m                 \u001b[0;32mreturn\u001b[0m\u001b[0;34m\u001b[0m\u001b[0;34m\u001b[0m\u001b[0m\n\u001b[1;32m    562\u001b[0m \u001b[0;34m\u001b[0m\u001b[0m\n",
      "\u001b[0;32m/usr/lib/python3.10/pickle.py\u001b[0m in \u001b[0;36msave_list\u001b[0;34m(self, obj)\u001b[0m\n\u001b[1;32m    930\u001b[0m \u001b[0;34m\u001b[0m\u001b[0m\n\u001b[1;32m    931\u001b[0m         \u001b[0mself\u001b[0m\u001b[0;34m.\u001b[0m\u001b[0mmemoize\u001b[0m\u001b[0;34m(\u001b[0m\u001b[0mobj\u001b[0m\u001b[0;34m)\u001b[0m\u001b[0;34m\u001b[0m\u001b[0;34m\u001b[0m\u001b[0m\n\u001b[0;32m--> 932\u001b[0;31m         \u001b[0mself\u001b[0m\u001b[0;34m.\u001b[0m\u001b[0m_batch_appends\u001b[0m\u001b[0;34m(\u001b[0m\u001b[0mobj\u001b[0m\u001b[0;34m)\u001b[0m\u001b[0;34m\u001b[0m\u001b[0;34m\u001b[0m\u001b[0m\n\u001b[0m\u001b[1;32m    933\u001b[0m \u001b[0;34m\u001b[0m\u001b[0m\n\u001b[1;32m    934\u001b[0m     \u001b[0mdispatch\u001b[0m\u001b[0;34m[\u001b[0m\u001b[0mlist\u001b[0m\u001b[0;34m]\u001b[0m \u001b[0;34m=\u001b[0m \u001b[0msave_list\u001b[0m\u001b[0;34m\u001b[0m\u001b[0;34m\u001b[0m\u001b[0m\n",
      "\u001b[0;32m/usr/lib/python3.10/pickle.py\u001b[0m in \u001b[0;36m_batch_appends\u001b[0;34m(self, items)\u001b[0m\n\u001b[1;32m    954\u001b[0m                 \u001b[0mwrite\u001b[0m\u001b[0;34m(\u001b[0m\u001b[0mMARK\u001b[0m\u001b[0;34m)\u001b[0m\u001b[0;34m\u001b[0m\u001b[0;34m\u001b[0m\u001b[0m\n\u001b[1;32m    955\u001b[0m                 \u001b[0;32mfor\u001b[0m \u001b[0mx\u001b[0m \u001b[0;32min\u001b[0m \u001b[0mtmp\u001b[0m\u001b[0;34m:\u001b[0m\u001b[0;34m\u001b[0m\u001b[0;34m\u001b[0m\u001b[0m\n\u001b[0;32m--> 956\u001b[0;31m                     \u001b[0msave\u001b[0m\u001b[0;34m(\u001b[0m\u001b[0mx\u001b[0m\u001b[0;34m)\u001b[0m\u001b[0;34m\u001b[0m\u001b[0;34m\u001b[0m\u001b[0m\n\u001b[0m\u001b[1;32m    957\u001b[0m                 \u001b[0mwrite\u001b[0m\u001b[0;34m(\u001b[0m\u001b[0mAPPENDS\u001b[0m\u001b[0;34m)\u001b[0m\u001b[0;34m\u001b[0m\u001b[0;34m\u001b[0m\u001b[0m\n\u001b[1;32m    958\u001b[0m             \u001b[0;32melif\u001b[0m \u001b[0mn\u001b[0m\u001b[0;34m:\u001b[0m\u001b[0;34m\u001b[0m\u001b[0;34m\u001b[0m\u001b[0m\n",
      "\u001b[0;32m/usr/local/lib/python3.10/dist-packages/joblib/numpy_pickle.py\u001b[0m in \u001b[0;36msave\u001b[0;34m(self, obj)\u001b[0m\n\u001b[1;32m    353\u001b[0m             \u001b[0;32mreturn\u001b[0m\u001b[0;34m\u001b[0m\u001b[0;34m\u001b[0m\u001b[0m\n\u001b[1;32m    354\u001b[0m \u001b[0;34m\u001b[0m\u001b[0m\n\u001b[0;32m--> 355\u001b[0;31m         \u001b[0;32mreturn\u001b[0m \u001b[0mPickler\u001b[0m\u001b[0;34m.\u001b[0m\u001b[0msave\u001b[0m\u001b[0;34m(\u001b[0m\u001b[0mself\u001b[0m\u001b[0;34m,\u001b[0m \u001b[0mobj\u001b[0m\u001b[0;34m)\u001b[0m\u001b[0;34m\u001b[0m\u001b[0;34m\u001b[0m\u001b[0m\n\u001b[0m\u001b[1;32m    356\u001b[0m \u001b[0;34m\u001b[0m\u001b[0m\n\u001b[1;32m    357\u001b[0m \u001b[0;34m\u001b[0m\u001b[0m\n",
      "\u001b[0;32m/usr/lib/python3.10/pickle.py\u001b[0m in \u001b[0;36msave\u001b[0;34m(self, obj, save_persistent_id)\u001b[0m\n\u001b[1;32m    576\u001b[0m                 \u001b[0mreduce\u001b[0m \u001b[0;34m=\u001b[0m \u001b[0mgetattr\u001b[0m\u001b[0;34m(\u001b[0m\u001b[0mobj\u001b[0m\u001b[0;34m,\u001b[0m \u001b[0;34m\"__reduce_ex__\"\u001b[0m\u001b[0;34m,\u001b[0m \u001b[0;32mNone\u001b[0m\u001b[0;34m)\u001b[0m\u001b[0;34m\u001b[0m\u001b[0;34m\u001b[0m\u001b[0m\n\u001b[1;32m    577\u001b[0m                 \u001b[0;32mif\u001b[0m \u001b[0mreduce\u001b[0m \u001b[0;32mis\u001b[0m \u001b[0;32mnot\u001b[0m \u001b[0;32mNone\u001b[0m\u001b[0;34m:\u001b[0m\u001b[0;34m\u001b[0m\u001b[0;34m\u001b[0m\u001b[0m\n\u001b[0;32m--> 578\u001b[0;31m                     \u001b[0mrv\u001b[0m \u001b[0;34m=\u001b[0m \u001b[0mreduce\u001b[0m\u001b[0;34m(\u001b[0m\u001b[0mself\u001b[0m\u001b[0;34m.\u001b[0m\u001b[0mproto\u001b[0m\u001b[0;34m)\u001b[0m\u001b[0;34m\u001b[0m\u001b[0;34m\u001b[0m\u001b[0m\n\u001b[0m\u001b[1;32m    579\u001b[0m                 \u001b[0;32melse\u001b[0m\u001b[0;34m:\u001b[0m\u001b[0;34m\u001b[0m\u001b[0;34m\u001b[0m\u001b[0m\n\u001b[1;32m    580\u001b[0m                     \u001b[0mreduce\u001b[0m \u001b[0;34m=\u001b[0m \u001b[0mgetattr\u001b[0m\u001b[0;34m(\u001b[0m\u001b[0mobj\u001b[0m\u001b[0;34m,\u001b[0m \u001b[0;34m\"__reduce__\"\u001b[0m\u001b[0;34m,\u001b[0m \u001b[0;32mNone\u001b[0m\u001b[0;34m)\u001b[0m\u001b[0;34m\u001b[0m\u001b[0;34m\u001b[0m\u001b[0m\n",
      "\u001b[0;31mTypeError\u001b[0m: cannot pickle 'generator' object"
     ]
    }
   ],
   "source": [
    "reactions = []\n",
    "for idx in tqdm(reaction_ids.rn_id.tolist()):\n",
    "    try:\n",
    "        result = REST.kegg_get(idx).read()\n",
    "        reactions.extend([row for row in result.split('\\n') if 'EQUATION' in row])\n",
    "    except:\n",
    "        continue\n",
    "\n",
    "    time.sleep(3)\n",
    "\n",
    "joblib.dump(reactions, 'reactions.pkl')"
   ]
  },
  {
   "cell_type": "code",
   "execution_count": 36,
   "id": "7eb07c58-3d46-4f33-b046-6923a3450540",
   "metadata": {
    "tags": []
   },
   "outputs": [],
   "source": [
    "rs2ps = []\n",
    "for r in reactions:\n",
    "    rs2ps.append([re.findall(r'C\\d{5}', s) for s in r.split('<=>')])"
   ]
  },
  {
   "cell_type": "code",
   "execution_count": 68,
   "id": "d10e24bb-f248-4f16-a2f0-333b2f5f9e69",
   "metadata": {
    "tags": []
   },
   "outputs": [],
   "source": [
    "pathways = []\n",
    "for rs,ps in rs2ps:\n",
    "    [[pathways.append([r, p]) for p in ps] for r in rs]\n",
    "pathways = pd.DataFrame(pathways, columns = ['Reactant', 'Product'])\n",
    "pathways = pathways.drop_duplicates().reset_index(drop=True)\n",
    "pathways.to_csv('kegg_pathways.csv', index=False)"
   ]
  },
  {
   "cell_type": "code",
   "execution_count": 69,
   "id": "637d2cfe-b7e3-4886-92e3-36e6e22660ee",
   "metadata": {
    "tags": []
   },
   "outputs": [],
   "source": [
    "unique_kegg_ids = set(pathways.Reactant.tolist() + pathways.Product.tolist())"
   ]
  },
  {
   "cell_type": "code",
   "execution_count": 70,
   "id": "50280654-98bf-4717-a1df-6add64ba5330",
   "metadata": {
    "tags": []
   },
   "outputs": [
    {
     "name": "stderr",
     "output_type": "stream",
     "text": [
      "100%|█████████████████████████████████████| 3151/3151 [2:53:57<00:00,  3.31s/it]\n"
     ]
    }
   ],
   "source": [
    "kegg2smiles = {}\n",
    "for idx in tqdm(unique_kegg_ids):\n",
    "    try:\n",
    "        kegg_con = KEGG()\n",
    "        kegg_entry = kegg_con.parse(kegg_con.get(idx))\n",
    "\n",
    "        chebi_con = ChEBI()\n",
    "        chebi_entry = chebi_con.getCompleteEntity('CHEBI:' + kegg_entry['DBLINKS']['ChEBI'])\n",
    "\n",
    "        kegg2smiles[idx] = chebi_entry.smiles\n",
    "    except:\n",
    "        continue\n",
    "    \n",
    "    time.sleep(3)"
   ]
  },
  {
   "cell_type": "code",
   "execution_count": 281,
   "id": "1de374bd-06f3-4ba9-b83d-474bdd941b18",
   "metadata": {
    "tags": []
   },
   "outputs": [],
   "source": [
    "pathways['Reactant'] = pathways['Reactant'].replace(kegg2smiles)\n",
    "pathways['Product'] = pathways['Product'].replace(kegg2smiles)"
   ]
  },
  {
   "cell_type": "code",
   "execution_count": 282,
   "id": "cabfe6d3-e78e-4e8f-86a4-2514505712a3",
   "metadata": {
    "tags": []
   },
   "outputs": [],
   "source": [
    "missing_ids = re.findall(r'C\\d{5}', ' '.join(set(pathways.Reactant.tolist() + pathways.Product.tolist())))"
   ]
  },
  {
   "cell_type": "code",
   "execution_count": 283,
   "id": "05597b0a-d6ef-4836-9e1b-c88762ea413d",
   "metadata": {
    "tags": []
   },
   "outputs": [
    {
     "data": {
      "text/plain": [
       "68"
      ]
     },
     "execution_count": 283,
     "metadata": {},
     "output_type": "execute_result"
    }
   ],
   "source": [
    "len(missing_ids)"
   ]
  },
  {
   "cell_type": "code",
   "execution_count": 95,
   "id": "ec11a404-0a93-43d5-9c61-5a965d17f83e",
   "metadata": {
    "tags": []
   },
   "outputs": [
    {
     "name": "stderr",
     "output_type": "stream",
     "text": [
      "100%|█████████████████████████████████████████| 425/425 [27:38<00:00,  3.90s/it]\n"
     ]
    }
   ],
   "source": [
    "for idx in tqdm(missing_ids):\n",
    "    try:\n",
    "        kegg_con = KEGG()\n",
    "        kegg_entry = kegg_con.parse(kegg_con.get(idx))\n",
    "\n",
    "        smiles = pcp.Compound.from_cid(kegg_entry['DBLINKS']['PubChem']).isomeric_smiles\n",
    "\n",
    "        kegg2smiles[idx] = smiles\n",
    "    except:\n",
    "        continue\n",
    "    \n",
    "    time.sleep(3)"
   ]
  },
  {
   "cell_type": "code",
   "execution_count": 280,
   "id": "ffdf2ebf-71fd-4c0c-9861-b2d36dbcdf11",
   "metadata": {
    "tags": []
   },
   "outputs": [
    {
     "name": "stderr",
     "output_type": "stream",
     "text": [
      "100%|███████████████████████████████████████████| 68/68 [04:02<00:00,  3.57s/it]\n"
     ]
    }
   ],
   "source": [
    "for idx in tqdm(missing_ids):\n",
    "    try:\n",
    "        kegg_con = KEGG()\n",
    "        kegg_entry = kegg_con.parse(kegg_con.get(idx))\n",
    "\n",
    "        compound = pcp.get_compounds(kegg_entry['NAME'][0],'name')[0]\n",
    "        \n",
    "        # if compound.molecular_formula == kegg_entry['FORMULA']:\n",
    "        kegg2smiles[idx] = compound.isomeric_smiles\n",
    "    except:\n",
    "        continue\n",
    "    \n",
    "    # time.sleep(3)"
   ]
  },
  {
   "cell_type": "code",
   "execution_count": 252,
   "id": "cb6866ba-679c-4cda-86a9-d177b178b911",
   "metadata": {
    "tags": []
   },
   "outputs": [
    {
     "name": "stderr",
     "output_type": "stream",
     "text": [
      "100%|█████████████████████████████████████████| 142/142 [07:56<00:00,  3.36s/it]\n"
     ]
    }
   ],
   "source": [
    "for idx in tqdm(missing_ids):\n",
    "    try:\n",
    "        kegg_con = KEGG()\n",
    "        kegg_entry = kegg_con.parse(kegg_con.get(idx))\n",
    "\n",
    "        compound = pcp.get_compounds(kegg_entry['DBLINKS']['CAS'],'name')[0]\n",
    "        \n",
    "        # if compound.molecular_formula == kegg_entry['FORMULA']:\n",
    "        kegg2smiles[idx] = compound.isomeric_smiles\n",
    "    except:\n",
    "        continue"
   ]
  },
  {
   "cell_type": "code",
   "execution_count": 288,
   "id": "8e387b71-6e46-4cc6-abb5-40243091738b",
   "metadata": {
    "tags": []
   },
   "outputs": [],
   "source": [
    "kegg2smiles['C21010'] = 'C(CC[N+](CCCN)(CCCN)CCCN)CN'\n",
    "kegg2smiles['C21593'] = 'C([C@H]([C@H](C(=O)[OH])O)O)O'\n",
    "kegg2smiles['C22204'] = 'CC(C)(COP(=O)([OH])OP(=O)([OH])OC[C@@H]1[C@H]([C@H]([C@@H](O1)N2C=NC3=C(N=CN=C32)N)O)OP(=O)([OH])[OH])[C@H](C(=O)NCCC(=O)NCCSC(=O)C4=CC=CC(=C4)C(=O)[OH])O'\n",
    "kegg2smiles['C20256'] = 'C/C(=C/NC(=O)N)/C(=O)[OH]'\n",
    "kegg2smiles['C20773'] = 'C1=CC(=CC(=C1)C(=O)[OH])C(=O)CC[C@@H]2[C@H]([C@H]([C@@H](O2)N3C=NC4=C(N=CN=C43)N)O)O'\n",
    "kegg2smiles['C21649'] = 'C([C@H]([C@@H](C(=O)[OH])O)O)O'\n",
    "kegg2smiles['C22935'] = 'CCC1C=[N+]2CC[C@@H]1[C@](C3=C(CC2)C4=CC=CC=C4N3)(COC(=O)C)C(=O)OC'\n",
    "kegg2smiles['C22993'] = 'CC(C)CCCCCCCCCC(=O)N[C@@H](CC1=CC=CC=C1)C(=O)[OH]'\n",
    "kegg2smiles['C21068'] = 'C1=C(OC=C1COP(=O)([O-])[O-])C[NH3+]'\n",
    "kegg2smiles['C20959'] = 'CC(=O)C(=O)[C@H](COP(=O)([OH])[OH])O'\n",
    "kegg2smiles['C21889'] = '[C-]#[N+][C@@H](CC1=CC=C(C=C1)O)C(=O)[OH]'\n",
    "kegg2smiles['C22363'] = 'C[C@@H](C(=O)OP(=O)(O)OC[C@@H]1[C@H]([C@H]([C@@H](O1)N2C=NC3=C(N=CN=C32)N)O)O)N'\n",
    "kegg2smiles['C20870'] = 'CC(C)(COP(=O)(O)OP(=O)(O)OC[C@@H]1[C@H]([C@H]([C@@H](O1)N2C=NC3=C(N=CN=C32)N)O)OP(=O)(O)O)[C@H](C(=O)NCCC(=O)NCCSC(=O)CCSC)O'\n",
    "kegg2smiles['C21878'] = 'C1=C(C=[N+](C=C1C(=O)S)[C@H]2[C@@H]([C@@H]([C@H](O2)COP(=O)(O)O)O)O)C(=O)O'\n",
    "kegg2smiles['C22934'] = 'C/C=C\\1/C=[N+]2CC[C@@H]1[C@](C3=C(CC2)C4=CC=CC=C4N3)(COC(=O)C)C(=O)OC'\n",
    "kegg2smiles['C20749'] = 'CC(C)(COP(=O)(O)OP(=O)(O)OC[C@@H]1[C@H]([C@H]([C@@H](O1)N2C=NC3=C(N=CN=C32)N)O)OP(=O)(O)O)[C@H](C(=O)NCCC(=O)NCCSC(=O)CCC[N+](C)(C)C)O'\n",
    "kegg2smiles['C21076'] = 'C[C@H](CCCC(C)C(=O)O)[C@H]1CC[C@@H]2[C@@]1(CC[C@H]3[C@H]2CCC4=CC(=O)CC[C@]34C)C'\n",
    "kegg2smiles['C21877'] = 'C1=C(C=[N+](C=C1C(=O)OP(=O)([O-])OC[C@@H]2[C@H]([C@H]([C@@H](O2)N3C=NC4=C(N=CN=C43)N)O)O)[C@H]5[C@@H]([C@@H]([C@H](O5)COP(=O)([O-])[O-])O)O)C(=O)[O-]'\n",
    "kegg2smiles['C22493'] = 'C1=CC(=C[N+](=C1)[C@H]2[C@@H]([C@@H]([C@H](O2)COP(=O)(O)OP(=O)(O)OC[C@@H]3[C@H]([C@H]([C@@H](O3)N4C=NC5=C(N=CN=C54)N)O)OP(=O)(O)O)O)O)C(=O)N'\n"
   ]
  },
  {
   "cell_type": "code",
   "execution_count": 291,
   "id": "2fe440b9-49b0-46d3-8750-035fc1f069bf",
   "metadata": {
    "tags": []
   },
   "outputs": [],
   "source": [
    "pathways['Reactant'] = pathways['Reactant'].replace(kegg2smiles)\n",
    "pathways['Product'] = pathways['Product'].replace(kegg2smiles)\n",
    "pathways = pathways[~pathways['Reactant'].isin(missing_ids)]\n",
    "pathways = pathways[~pathways['Product'].isin(missing_ids)]\n",
    "pathways.to_csv('kegg_pathways_smiles.csv', index=False)"
   ]
  },
  {
   "cell_type": "code",
   "execution_count": 292,
   "id": "40731b93-5d66-409f-9ba6-b98b5546fe2d",
   "metadata": {
    "tags": []
   },
   "outputs": [
    {
     "data": {
      "text/html": [
       "<div>\n",
       "<style scoped>\n",
       "    .dataframe tbody tr th:only-of-type {\n",
       "        vertical-align: middle;\n",
       "    }\n",
       "\n",
       "    .dataframe tbody tr th {\n",
       "        vertical-align: top;\n",
       "    }\n",
       "\n",
       "    .dataframe thead th {\n",
       "        text-align: right;\n",
       "    }\n",
       "</style>\n",
       "<table border=\"1\" class=\"dataframe\">\n",
       "  <thead>\n",
       "    <tr style=\"text-align: right;\">\n",
       "      <th></th>\n",
       "      <th>Reactant</th>\n",
       "      <th>Product</th>\n",
       "    </tr>\n",
       "  </thead>\n",
       "  <tbody>\n",
       "    <tr>\n",
       "      <th>0</th>\n",
       "      <td>N[C@@H](Cc1ccc(O)cc1)C(O)=O</td>\n",
       "      <td>Oc1ccccc1</td>\n",
       "    </tr>\n",
       "    <tr>\n",
       "      <th>1</th>\n",
       "      <td>N[C@@H](Cc1ccc(O)cc1)C(O)=O</td>\n",
       "      <td>CC(=O)OCC(CCN1C=NC2=CN=C(N=C21)N)COC(=O)C</td>\n",
       "    </tr>\n",
       "    <tr>\n",
       "      <th>2</th>\n",
       "      <td>N[C@@H](Cc1ccc(O)cc1)C(O)=O</td>\n",
       "      <td>[H]N([H])[H]</td>\n",
       "    </tr>\n",
       "    <tr>\n",
       "      <th>3</th>\n",
       "      <td>[H]O[H]</td>\n",
       "      <td>Oc1ccccc1</td>\n",
       "    </tr>\n",
       "    <tr>\n",
       "      <th>4</th>\n",
       "      <td>[H]O[H]</td>\n",
       "      <td>CC(=O)OCC(CCN1C=NC2=CN=C(N=C21)N)COC(=O)C</td>\n",
       "    </tr>\n",
       "    <tr>\n",
       "      <th>...</th>\n",
       "      <td>...</td>\n",
       "      <td>...</td>\n",
       "    </tr>\n",
       "    <tr>\n",
       "      <th>9545</th>\n",
       "      <td>[O-][As](=O)([O-])[O-]</td>\n",
       "      <td>NC(=O)C1=CN(C=CC1)[C@@H]1O[C@H](COP(O)(=O)OP(O...</td>\n",
       "    </tr>\n",
       "    <tr>\n",
       "      <th>9546</th>\n",
       "      <td>NC(=O)c1ccc[n+](c1)[C@@H]1O[C@H](COP(O)(=O)OP(...</td>\n",
       "      <td>C([C@H](C(=O)O[As](=O)([O-])[O-])O)OP(=O)(O)O</td>\n",
       "    </tr>\n",
       "    <tr>\n",
       "      <th>9547</th>\n",
       "      <td>C1=CC=C(C=C1)C(COC(=O)N)COC(=O)N</td>\n",
       "      <td>CCC(=O)O[C@H]1CC[C@@H]2[C@@]1(CC[C@H]3[C@H]2CC...</td>\n",
       "    </tr>\n",
       "    <tr>\n",
       "      <th>9548</th>\n",
       "      <td>CNC(=O)C1=CC(=CC=C1)NC(=O)C2=CC(=C(C=C2)OC)OC</td>\n",
       "      <td>O[C@@H]1[C@@H](COP(O)(=O)OP(O)(O)=O)O[C@H]([C@...</td>\n",
       "    </tr>\n",
       "    <tr>\n",
       "      <th>9549</th>\n",
       "      <td>CNC(=O)C1=CC(=CC=C1)NC(=O)C2=CC(=C(C=C2)OC)OC</td>\n",
       "      <td>CCC(=O)O[C@H]1CC[C@@H]2[C@@]1(CC[C@H]3[C@H]2CC...</td>\n",
       "    </tr>\n",
       "  </tbody>\n",
       "</table>\n",
       "<p>9331 rows × 2 columns</p>\n",
       "</div>"
      ],
      "text/plain": [
       "                                               Reactant  \\\n",
       "0                           N[C@@H](Cc1ccc(O)cc1)C(O)=O   \n",
       "1                           N[C@@H](Cc1ccc(O)cc1)C(O)=O   \n",
       "2                           N[C@@H](Cc1ccc(O)cc1)C(O)=O   \n",
       "3                                               [H]O[H]   \n",
       "4                                               [H]O[H]   \n",
       "...                                                 ...   \n",
       "9545                             [O-][As](=O)([O-])[O-]   \n",
       "9546  NC(=O)c1ccc[n+](c1)[C@@H]1O[C@H](COP(O)(=O)OP(...   \n",
       "9547                   C1=CC=C(C=C1)C(COC(=O)N)COC(=O)N   \n",
       "9548      CNC(=O)C1=CC(=CC=C1)NC(=O)C2=CC(=C(C=C2)OC)OC   \n",
       "9549      CNC(=O)C1=CC(=CC=C1)NC(=O)C2=CC(=C(C=C2)OC)OC   \n",
       "\n",
       "                                                Product  \n",
       "0                                             Oc1ccccc1  \n",
       "1             CC(=O)OCC(CCN1C=NC2=CN=C(N=C21)N)COC(=O)C  \n",
       "2                                          [H]N([H])[H]  \n",
       "3                                             Oc1ccccc1  \n",
       "4             CC(=O)OCC(CCN1C=NC2=CN=C(N=C21)N)COC(=O)C  \n",
       "...                                                 ...  \n",
       "9545  NC(=O)C1=CN(C=CC1)[C@@H]1O[C@H](COP(O)(=O)OP(O...  \n",
       "9546      C([C@H](C(=O)O[As](=O)([O-])[O-])O)OP(=O)(O)O  \n",
       "9547  CCC(=O)O[C@H]1CC[C@@H]2[C@@]1(CC[C@H]3[C@H]2CC...  \n",
       "9548  O[C@@H]1[C@@H](COP(O)(=O)OP(O)(O)=O)O[C@H]([C@...  \n",
       "9549  CCC(=O)O[C@H]1CC[C@@H]2[C@@]1(CC[C@H]3[C@H]2CC...  \n",
       "\n",
       "[9331 rows x 2 columns]"
      ]
     },
     "execution_count": 292,
     "metadata": {},
     "output_type": "execute_result"
    }
   ],
   "source": [
    "pathways"
   ]
  }
 ],
 "metadata": {
  "kernelspec": {
   "display_name": "Python 3 (ipykernel)",
   "language": "python",
   "name": "python3"
  },
  "language_info": {
   "codemirror_mode": {
    "name": "ipython",
    "version": 3
   },
   "file_extension": ".py",
   "mimetype": "text/x-python",
   "name": "python",
   "nbconvert_exporter": "python",
   "pygments_lexer": "ipython3",
   "version": "3.10.12"
  }
 },
 "nbformat": 4,
 "nbformat_minor": 5
}
